{
  "nbformat": 4,
  "nbformat_minor": 0,
  "metadata": {
    "colab": {
      "provenance": []
    },
    "kernelspec": {
      "name": "python3",
      "display_name": "Python 3"
    },
    "language_info": {
      "name": "python"
    }
  },
  "cells": [
    {
      "cell_type": "markdown",
      "source": [
        "# Assignment: Data Types and Structures in Python"
      ],
      "metadata": {
        "id": "oJTIq8rdY8SA"
      }
    },
    {
      "cell_type": "markdown",
      "source": [
        "***1. What are data structures, and why are they important?***"
      ],
      "metadata": {
        "id": "zdlwAu0xZZns"
      }
    },
    {
      "cell_type": "markdown",
      "source": [
        "- Data structures are organized ways to store, manage, and retrieve data efficiently.\n",
        "\n",
        "- They are important because they help optimize algorithms, reduce complexity, and improve performance in software applications.\n",
        "\n"
      ],
      "metadata": {
        "id": "vlzOPEXpZlRE"
      }
    },
    {
      "cell_type": "markdown",
      "source": [
        "***2. Explain the difference between mutable and immutable data types with examples.***"
      ],
      "metadata": {
        "id": "oqFFof8VZppd"
      }
    },
    {
      "cell_type": "code",
      "execution_count": null,
      "metadata": {
        "id": "0x3lB1CaYv6y"
      },
      "outputs": [],
      "source": [
        "#Mutable: Can be changed after creation.\n",
        "#Example: list, set, dict\n",
        "\n",
        "my_list = [1, 2, 3]\n",
        "my_list.append(4)  # List is modified\n"
      ]
    },
    {
      "cell_type": "code",
      "source": [
        "#Immutable: Cannot be changed after creation.\n",
        "#Example: tuple, str\n",
        "\n",
        "\n",
        "my_tuple = (1, 2, 3)\n",
        "# my_tuple[0] = 4  # This will raise an error\n"
      ],
      "metadata": {
        "id": "PbwAVBdZZ3x0"
      },
      "execution_count": null,
      "outputs": []
    },
    {
      "cell_type": "markdown",
      "source": [
        "***3. What are the main differences between lists and tuples in Python?***"
      ],
      "metadata": {
        "id": "Mn9OgdCAaBwE"
      }
    },
    {
      "cell_type": "markdown",
      "source": [
        "List\n",
        "\n",
        "- A list can be changed after it is created.\n",
        "\n",
        "- You can add, remove, or update items inside a list.\n",
        "\n",
        "- Lists use square brackets like [1, 2, 3].\n",
        "\n",
        "- Lists are slower compared to tuples.\n",
        "\n",
        "- You should use a list when you need to change the data later.\n",
        "\n",
        "Tuple\n",
        "\n",
        "- A tuple cannot be changed after it is created.\n",
        "\n",
        "- Once you create a tuple, you cannot add, remove, or change its items.\n",
        "\n",
        "- Tuples use round brackets like (1, 2, 3).\n",
        "\n",
        "- Tuples are faster and use less memory than lists.\n",
        "\n",
        "- You should use a tuple when you want the data to stay the same forever.\n",
        "\n"
      ],
      "metadata": {
        "id": "iDGFPezsaG9r"
      }
    },
    {
      "cell_type": "markdown",
      "source": [
        "***4. Describe how dictionaries store data.***"
      ],
      "metadata": {
        "id": "N_ntG1ZpbGWa"
      }
    },
    {
      "cell_type": "markdown",
      "source": [
        "- Dictionaries store data in key-value pairs.\n",
        "\n",
        "- Each key maps to a value, and keys must be unique and hashable."
      ],
      "metadata": {
        "id": "8rho-r0EbSRi"
      }
    },
    {
      "cell_type": "code",
      "source": [
        "student = {\"name\": \"Alice\", \"age\": 20}"
      ],
      "metadata": {
        "id": "QbL0apvqbV6C"
      },
      "execution_count": null,
      "outputs": []
    },
    {
      "cell_type": "markdown",
      "source": [
        "***5. Why might you use a set instead of a list in Python?***"
      ],
      "metadata": {
        "id": "sv-2WwzHbXiB"
      }
    },
    {
      "cell_type": "markdown",
      "source": [
        "- Sets automatically remove duplicates.\n",
        "\n",
        "- Sets offer faster membership testing compared to lists.\n",
        "\n"
      ],
      "metadata": {
        "id": "r8mJ4DuNbh2i"
      }
    },
    {
      "cell_type": "code",
      "source": [
        "my_set = {1, 2, 3, 2}\n",
        "print(my_set)\n"
      ],
      "metadata": {
        "id": "GnYFkFxIbmSK"
      },
      "execution_count": null,
      "outputs": []
    },
    {
      "cell_type": "markdown",
      "source": [
        "***6. What is a string in Python, and how is it different from a list***?"
      ],
      "metadata": {
        "id": "_279ZAc4bo9S"
      }
    },
    {
      "cell_type": "markdown",
      "source": [
        "- A string is a sequence of characters.\n",
        "\n",
        "- A list is a sequence of any type of elements (numbers, strings, objects)."
      ],
      "metadata": {
        "id": "mLA-MyeIb00g"
      }
    },
    {
      "cell_type": "code",
      "source": [
        "my_string = \"Hello\"\n",
        "my_list = ['H', 'e', 'l', 'l', 'o']\n"
      ],
      "metadata": {
        "id": "WnPb1Vxjb75h"
      },
      "execution_count": null,
      "outputs": []
    },
    {
      "cell_type": "markdown",
      "source": [
        "***7. How do tuples ensure data integrity in Python?***"
      ],
      "metadata": {
        "id": "EoUu5MJfb9hJ"
      }
    },
    {
      "cell_type": "markdown",
      "source": [
        "- Tuples are immutable, meaning their data cannot be modified after creation.\n",
        "\n",
        "- This prevents accidental changes and helps maintain data integrity."
      ],
      "metadata": {
        "id": "2RGDXDaqcF3I"
      }
    },
    {
      "cell_type": "markdown",
      "source": [
        "***8. What is a hash table, and how does it relate to dictionaries in Python?***"
      ],
      "metadata": {
        "id": "HZ-TF0WtcNn4"
      }
    },
    {
      "cell_type": "markdown",
      "source": [
        "- A hash table stores data using a hash function to compute an index.\n",
        "\n",
        "- In Python, dictionaries are implemented using hash tables internally.\n"
      ],
      "metadata": {
        "id": "byEfI2rIcTT4"
      }
    },
    {
      "cell_type": "markdown",
      "source": [
        "***9. Can lists contain different data types in Python?***"
      ],
      "metadata": {
        "id": "vY4kmBuGcZ8I"
      }
    },
    {
      "cell_type": "markdown",
      "source": [
        "Yes, lists can hold different types of elements."
      ],
      "metadata": {
        "id": "UarI9O-ZchsI"
      }
    },
    {
      "cell_type": "code",
      "source": [
        "mixed_list = [1, \"two\", 3.0, True]\n"
      ],
      "metadata": {
        "id": "wWFzk6CPcjiQ"
      },
      "execution_count": null,
      "outputs": []
    },
    {
      "cell_type": "markdown",
      "source": [
        "***10. Explain why strings are immutable in Python.***"
      ],
      "metadata": {
        "id": "eJNgWjSPclU_"
      }
    },
    {
      "cell_type": "markdown",
      "source": [
        "Strings are immutable to improve performance, ensure security, and allow for memory sharing (string interning)."
      ],
      "metadata": {
        "id": "PuTb0Z68dD_f"
      }
    },
    {
      "cell_type": "markdown",
      "source": [
        "***11. What advantages do dictionaries offer over lists for certain tasks?***"
      ],
      "metadata": {
        "id": "rBRPq3GFdHOH"
      }
    },
    {
      "cell_type": "markdown",
      "source": [
        "- Faster lookups with keys (O(1) complexity).\n",
        "\n",
        "- Clear data relationships using key-value pairs.\n",
        "\n"
      ],
      "metadata": {
        "id": "stC6I16MdQM_"
      }
    },
    {
      "cell_type": "markdown",
      "source": [
        "***12. Describe a scenario where using a tuple would be preferable over a list.***\n"
      ],
      "metadata": {
        "id": "Vl_frNgDdzlQ"
      }
    },
    {
      "cell_type": "markdown",
      "source": [
        "- When you want to store fixed, constant data like coordinates or dates."
      ],
      "metadata": {
        "id": "DdctZOQhd-DW"
      }
    },
    {
      "cell_type": "code",
      "source": [
        "coordinates = (10, 20)"
      ],
      "metadata": {
        "id": "364alcoyeBjl"
      },
      "execution_count": null,
      "outputs": []
    },
    {
      "cell_type": "markdown",
      "source": [
        "***13. How do sets handle duplicate values in Python?***\n"
      ],
      "metadata": {
        "id": "j3XFACNBfEIE"
      }
    },
    {
      "cell_type": "markdown",
      "source": [
        "- Sets automatically remove duplicates when elements are added."
      ],
      "metadata": {
        "id": "imXrvrKIfH31"
      }
    },
    {
      "cell_type": "code",
      "source": [
        "set_example = {1, 2, 2, 3}\n",
        "print(set_example)  # Output: {1, 2, 3}"
      ],
      "metadata": {
        "id": "CqHV9xYafLAk"
      },
      "execution_count": null,
      "outputs": []
    },
    {
      "cell_type": "markdown",
      "source": [
        "***14. How does the “in” keyword work differently for lists and dictionaries?***"
      ],
      "metadata": {
        "id": "ea9768mWfNMM"
      }
    },
    {
      "cell_type": "markdown",
      "source": [
        "- In lists, in checks for values.\n",
        "\n",
        "- In dictionaries, in checks for keys."
      ],
      "metadata": {
        "id": "z7mN5fIhfTs8"
      }
    },
    {
      "cell_type": "code",
      "source": [
        "# List\n",
        "print(2 in [1, 2, 3])\n",
        "\n",
        "# Dictionary\n",
        "print('name' in {'name': 'Alice'})"
      ],
      "metadata": {
        "id": "xUkcyFxufWaz"
      },
      "execution_count": null,
      "outputs": []
    },
    {
      "cell_type": "markdown",
      "source": [
        "***15. Can you modify the elements of a tuple? Explain why or why not.***"
      ],
      "metadata": {
        "id": "gjCfULXqgF5L"
      }
    },
    {
      "cell_type": "markdown",
      "source": [
        "- No, tuples are immutable. You cannot change their contents once created.\n"
      ],
      "metadata": {
        "id": "0p0TBPPygKPK"
      }
    },
    {
      "cell_type": "markdown",
      "source": [
        "***16. What is a nested dictionary, and give an example of its use case?***"
      ],
      "metadata": {
        "id": "vCYivq7cgORy"
      }
    },
    {
      "cell_type": "markdown",
      "source": [
        "- A nested dictionary is a dictionary inside another dictionary."
      ],
      "metadata": {
        "id": "1vwbMJNLgRgi"
      }
    },
    {
      "cell_type": "code",
      "source": [
        "student = {\n",
        "    \"name\": \"John\",\n",
        "    \"courses\": {\n",
        "        \"math\": 90,\n",
        "        \"science\": 85\n",
        "    }\n",
        "}\n"
      ],
      "metadata": {
        "id": "t4cdby9WgIcC"
      },
      "execution_count": null,
      "outputs": []
    },
    {
      "cell_type": "markdown",
      "source": [
        "- Use Case: Representing complex data structures, like student profiles with multiple subjects.\n",
        "\n"
      ],
      "metadata": {
        "id": "g6KW52O_hfpY"
      }
    },
    {
      "cell_type": "markdown",
      "source": [
        "***17. Describe the time complexity of accessing elements in a dictionary.***"
      ],
      "metadata": {
        "id": "hpucMdgbhh-Q"
      }
    },
    {
      "cell_type": "markdown",
      "source": [
        "- Dictionary element access has an average time complexity of O(1) (constant time).\n",
        "\n"
      ],
      "metadata": {
        "id": "wJGYY8pShnh4"
      }
    },
    {
      "cell_type": "markdown",
      "source": [
        "***18. In what situations are lists preferred over dictionaries?***"
      ],
      "metadata": {
        "id": "W2dcFeFjhpOQ"
      }
    },
    {
      "cell_type": "markdown",
      "source": [
        "- When order matters or you just need a simple collection of items without   \n",
        "  key-value mapping.\n",
        "\n",
        "- Example: Storing a sequence of numbers.\n"
      ],
      "metadata": {
        "id": "JD8qYfdthszR"
      }
    },
    {
      "cell_type": "markdown",
      "source": [
        "***19. Why are dictionaries considered unordered, and how does that affect data retrieval?***"
      ],
      "metadata": {
        "id": "3iTkLz9lhyvp"
      }
    },
    {
      "cell_type": "markdown",
      "source": [
        "- Older versions of Python (<3.7) treated dictionaries as unordered.\n",
        "\n",
        "- Modern Python (3.7+) preserves insertion order, but conceptually they are  \n",
        "  used without expecting order.\n",
        "\n",
        "- Retrieval is by key, not by position."
      ],
      "metadata": {
        "id": "grHiBl31h7aw"
      }
    },
    {
      "cell_type": "markdown",
      "source": [
        "***20. Explain the difference between a list and a dictionary in terms of data retrieval.***"
      ],
      "metadata": {
        "id": "UH8Se3kJiFQ3"
      }
    },
    {
      "cell_type": "markdown",
      "source": [
        "- List: Retrieve by index (position).\n",
        "\n",
        "- Dictionary: Retrieve by key (name)."
      ],
      "metadata": {
        "id": "5xI-kpg1iI-P"
      }
    },
    {
      "cell_type": "code",
      "source": [
        "# List\n",
        "my_list = [10, 20, 30]\n",
        "print(my_list[1])\n",
        "\n",
        "# Dictionary\n",
        "my_dict = {\"one\": 1, \"two\": 2}\n",
        "print(my_dict[\"two\"])\n"
      ],
      "metadata": {
        "id": "R9_irelwiOPX"
      },
      "execution_count": null,
      "outputs": []
    },
    {
      "cell_type": "markdown",
      "source": [
        "# Practical Python Questions"
      ],
      "metadata": {
        "id": "B_drMcR6iSQv"
      }
    },
    {
      "cell_type": "markdown",
      "source": [
        "***01. Write a code to create a string with your name and print it.***"
      ],
      "metadata": {
        "id": "Smxl1wCNiln-"
      }
    },
    {
      "cell_type": "code",
      "source": [
        "\n",
        "my_name = \"John Doe\"\n",
        "print(my_name)"
      ],
      "metadata": {
        "id": "Cl_5lmAvipa-"
      },
      "execution_count": null,
      "outputs": []
    },
    {
      "cell_type": "markdown",
      "source": [
        "***02. Write a code to find the length of the string \"Hello World\".***\n",
        "\n"
      ],
      "metadata": {
        "id": "nqt1dwViisHx"
      }
    },
    {
      "cell_type": "code",
      "source": [
        "text = \"Hello World\"\n",
        "length = len(text)\n",
        "print(length)"
      ],
      "metadata": {
        "id": "l3SuLg0dixR-"
      },
      "execution_count": null,
      "outputs": []
    },
    {
      "cell_type": "markdown",
      "source": [
        "***03. Write a code to slice the first 3 characters from the string \"Python Programming\".***"
      ],
      "metadata": {
        "id": "AgfCkFwzizWm"
      }
    },
    {
      "cell_type": "code",
      "source": [
        "text = \"Python Programming\"\n",
        "sliced_text = text[:3]\n",
        "print(sliced_text)\n"
      ],
      "metadata": {
        "id": "zvmYlJGzi29f"
      },
      "execution_count": null,
      "outputs": []
    },
    {
      "cell_type": "markdown",
      "source": [
        "***04. Write a code to convert the string \"hello\" to uppercase.***"
      ],
      "metadata": {
        "id": "JOoUd21qi5WX"
      }
    },
    {
      "cell_type": "code",
      "source": [
        "text = \"hello\"\n",
        "uppercase_text = text.upper()\n",
        "print(uppercase_text)\n"
      ],
      "metadata": {
        "id": "igiMr3iFi9bV"
      },
      "execution_count": null,
      "outputs": []
    },
    {
      "cell_type": "markdown",
      "source": [
        "***05. Write a code to replace the word \"apple\" with \"orange\" in the string \"I like apple\".***"
      ],
      "metadata": {
        "id": "tRqLMvewjAd2"
      }
    },
    {
      "cell_type": "code",
      "source": [
        "sentence = \"I like apple\"\n",
        "new_sentence = sentence.replace(\"apple\", \"orange\")\n",
        "print(new_sentence)\n"
      ],
      "metadata": {
        "id": "flYAi0zwjFTV"
      },
      "execution_count": null,
      "outputs": []
    },
    {
      "cell_type": "markdown",
      "source": [
        "***06. Write a code to create a list with numbers 1 to 5 and print it.***\n"
      ],
      "metadata": {
        "id": "jL5Bu9_sjHLW"
      }
    },
    {
      "cell_type": "code",
      "source": [
        "numbers = [1, 2, 3, 4, 5]\n",
        "print(numbers)"
      ],
      "metadata": {
        "id": "GXlhpCuOjMDl"
      },
      "execution_count": null,
      "outputs": []
    },
    {
      "cell_type": "markdown",
      "source": [
        "***07. Write a code to append the number 10 to the list [1, 2, 3, 4].***\n",
        "\n"
      ],
      "metadata": {
        "id": "K4_K2BkhjOnO"
      }
    },
    {
      "cell_type": "code",
      "source": [
        "numbers = [1, 2, 3, 4]\n",
        "numbers.append(10)\n",
        "print(numbers)"
      ],
      "metadata": {
        "id": "VUY0TCAujUL9"
      },
      "execution_count": null,
      "outputs": []
    },
    {
      "cell_type": "markdown",
      "source": [
        "***08. Write a code to remove the number 3 from the list [1, 2, 3, 4, 5].***"
      ],
      "metadata": {
        "id": "kFMLKtAKjV7-"
      }
    },
    {
      "cell_type": "code",
      "source": [
        "numbers = [1, 2, 3, 4, 5]\n",
        "numbers.remove(3)\n",
        "print(numbers)"
      ],
      "metadata": {
        "id": "lk9tekRDjo61"
      },
      "execution_count": null,
      "outputs": []
    },
    {
      "cell_type": "markdown",
      "source": [
        "***09. Write a code to access the second element in the list ['a', 'b', 'c', 'd'].***"
      ],
      "metadata": {
        "id": "cX9IBKbCjque"
      }
    },
    {
      "cell_type": "code",
      "source": [
        "letters = ['a', 'b', 'c', 'd']\n",
        "second_element = letters[1]\n",
        "print(second_element)\n"
      ],
      "metadata": {
        "id": "HAXJrhASjupU"
      },
      "execution_count": null,
      "outputs": []
    },
    {
      "cell_type": "markdown",
      "source": [
        "***10. Write a code to reverse the list [10, 20, 30, 40, 50].***"
      ],
      "metadata": {
        "id": "78eWUziojwok"
      }
    },
    {
      "cell_type": "code",
      "source": [
        "numbers = [10, 20, 30, 40, 50]\n",
        "numbers.reverse()\n",
        "print(numbers)\n"
      ],
      "metadata": {
        "id": "HKTIy1Wpj1Bd"
      },
      "execution_count": null,
      "outputs": []
    },
    {
      "cell_type": "markdown",
      "source": [
        "***11. Write a code to create a tuple with the elements 100, 200, 300 and print it.***"
      ],
      "metadata": {
        "id": "nlYltB3sj4ec"
      }
    },
    {
      "cell_type": "code",
      "source": [
        "numbers = (100, 200, 300)\n",
        "print(numbers)\n"
      ],
      "metadata": {
        "id": "USMGZZ2YkoAD"
      },
      "execution_count": null,
      "outputs": []
    },
    {
      "cell_type": "markdown",
      "source": [
        "***12. Write a code to access the second-to-last element of the tuple ('red', 'green', 'blue', 'yellow').***"
      ],
      "metadata": {
        "id": "OgVrUF3PkqKT"
      }
    },
    {
      "cell_type": "code",
      "source": [
        "colors = ('red', 'green', 'blue', 'yellow')\n",
        "second_last = colors[-2]\n",
        "print(second_last)\n"
      ],
      "metadata": {
        "id": "96oM0669ku0t"
      },
      "execution_count": null,
      "outputs": []
    },
    {
      "cell_type": "markdown",
      "source": [
        "***13. Write a code to find the minimum number in the tuple (10, 20, 5, 15).***"
      ],
      "metadata": {
        "id": "IZkPsLifky2N"
      }
    },
    {
      "cell_type": "code",
      "source": [
        "numbers = (10, 20, 5, 15)\n",
        "minimum = min(numbers)\n",
        "print(minimum)\n"
      ],
      "metadata": {
        "id": "krZa-w1_k2kq"
      },
      "execution_count": null,
      "outputs": []
    },
    {
      "cell_type": "markdown",
      "source": [
        "***14. Write a code to find the index of the element \"cat\" in the tuple ('dog', 'cat', 'rabbit').***"
      ],
      "metadata": {
        "id": "is96lIrqk4LL"
      }
    },
    {
      "cell_type": "code",
      "source": [
        "animals = ('dog', 'cat', 'rabbit')\n",
        "index_cat = animals.index('cat')\n",
        "print(index_cat)\n"
      ],
      "metadata": {
        "id": "p0ElvLs_k7VT"
      },
      "execution_count": null,
      "outputs": []
    },
    {
      "cell_type": "markdown",
      "source": [
        "***15. Write a code to create a tuple containing three different fruits and check if \"kiwi\" is in it.***"
      ],
      "metadata": {
        "id": "bzgn7tvWk8rq"
      }
    },
    {
      "cell_type": "code",
      "source": [
        "fruits = ('apple', 'banana', 'cherry')\n",
        "print('kiwi' in fruits)\n"
      ],
      "metadata": {
        "id": "Uv6EKxyjk_P6"
      },
      "execution_count": null,
      "outputs": []
    },
    {
      "cell_type": "markdown",
      "source": [
        "***16. Write a code to create a set with the elements 'a', 'b', 'c' and print it.***"
      ],
      "metadata": {
        "id": "JwMnju0rlA5T"
      }
    },
    {
      "cell_type": "code",
      "source": [
        "letters = {'a', 'b', 'c'}\n",
        "print(letters)\n"
      ],
      "metadata": {
        "id": "OtLyARtTlG36"
      },
      "execution_count": null,
      "outputs": []
    },
    {
      "cell_type": "markdown",
      "source": [
        "***17. Write a code to clear all elements from the set {1, 2, 3, 4, 5}.***"
      ],
      "metadata": {
        "id": "42VKsJP5lITj"
      }
    },
    {
      "cell_type": "code",
      "source": [
        "numbers = {1, 2, 3, 4, 5}\n",
        "numbers.clear()\n",
        "print(numbers)\n"
      ],
      "metadata": {
        "id": "y6qZYt_SlL_y"
      },
      "execution_count": null,
      "outputs": []
    },
    {
      "cell_type": "markdown",
      "source": [
        "***18. Write a code to remove the element 4 from the set {1, 2, 3, 4}.***"
      ],
      "metadata": {
        "id": "oA9H4yTOlN4C"
      }
    },
    {
      "cell_type": "code",
      "source": [
        "numbers = {1, 2, 3, 4}\n",
        "numbers.remove(4)\n",
        "print(numbers)\n"
      ],
      "metadata": {
        "id": "zTpNf7dBlRTS"
      },
      "execution_count": null,
      "outputs": []
    },
    {
      "cell_type": "markdown",
      "source": [
        "***19. Write a code to find the union of two sets {1, 2, 3} and {3, 4, 5}.***\n"
      ],
      "metadata": {
        "id": "pR2ZjIg0lWh5"
      }
    },
    {
      "cell_type": "code",
      "source": [
        "set1 = {1, 2, 3}\n",
        "set2 = {3, 4, 5}\n",
        "union_set = set1.union(set2)\n",
        "print(union_set)\n"
      ],
      "metadata": {
        "id": "eLGf238Nlaey"
      },
      "execution_count": null,
      "outputs": []
    },
    {
      "cell_type": "markdown",
      "source": [
        "***20. Write a code to find the intersection of two sets {1, 2, 3} and {2, 3, 4}.***"
      ],
      "metadata": {
        "id": "WjCgqfzklcDS"
      }
    },
    {
      "cell_type": "code",
      "source": [
        "set1 = {1, 2, 3}\n",
        "set2 = {2, 3, 4}\n",
        "intersection_set = set1.intersection(set2)\n",
        "print(intersection_set)\n"
      ],
      "metadata": {
        "id": "ZlNT8CGwlgdq"
      },
      "execution_count": null,
      "outputs": []
    },
    {
      "cell_type": "markdown",
      "source": [
        "***21. Write a code to create a dictionary with the keys \"name\", \"age\", and \"city\", and print it.***"
      ],
      "metadata": {
        "id": "vIHbaUrAlpGh"
      }
    },
    {
      "cell_type": "code",
      "source": [
        "person = {'name': 'John', 'age': 30, 'city': 'New York'}\n",
        "print(person)\n"
      ],
      "metadata": {
        "id": "AEB3fJRXltR7"
      },
      "execution_count": null,
      "outputs": []
    },
    {
      "cell_type": "markdown",
      "source": [
        "***22. Write a code to add a new key-value pair \"country\": \"USA\" to the dictionary {'name': 'John', 'age': 25}.***\n",
        "\n"
      ],
      "metadata": {
        "id": "WjcWLsXAlvCC"
      }
    },
    {
      "cell_type": "code",
      "source": [
        "person = {'name': 'John', 'age': 25}\n",
        "person['country'] = 'USA'\n",
        "print(person)\n"
      ],
      "metadata": {
        "id": "1IJJsHR8l2DZ"
      },
      "execution_count": null,
      "outputs": []
    },
    {
      "cell_type": "markdown",
      "source": [
        "***23. Write a code to access the value associated with the key \"name\" in the dictionary {'name': 'Alice', 'age': 30}.***\n"
      ],
      "metadata": {
        "id": "qIG9urYLl5u_"
      }
    },
    {
      "cell_type": "code",
      "source": [
        "person = {'name': 'Alice', 'age': 30}\n",
        "print(person['name'])\n"
      ],
      "metadata": {
        "id": "NE4noj9Kl-uk"
      },
      "execution_count": null,
      "outputs": []
    },
    {
      "cell_type": "markdown",
      "source": [
        "***24. Write a code to remove the key \"age\" from the dictionary {'name': 'Bob', 'age': 22, 'city': 'New York'}.***\n"
      ],
      "metadata": {
        "id": "N6ZgmsL0mAbR"
      }
    },
    {
      "cell_type": "code",
      "source": [
        "person = {'name': 'Bob', 'age': 22, 'city': 'New York'}\n",
        "del person['age']\n",
        "print(person)\n"
      ],
      "metadata": {
        "id": "Hn1SbcM5mGj5"
      },
      "execution_count": null,
      "outputs": []
    },
    {
      "cell_type": "markdown",
      "source": [
        "***25. Write a code to check if the key \"city\" exists in the dictionary {'name': 'Alice', 'city': 'Paris'}.***"
      ],
      "metadata": {
        "id": "lb1HkdCMmH7b"
      }
    },
    {
      "cell_type": "code",
      "source": [
        "person = {'name': 'Alice', 'city': 'Paris'}\n",
        "print('city' in person)\n"
      ],
      "metadata": {
        "id": "qVi319nsmK-5"
      },
      "execution_count": null,
      "outputs": []
    },
    {
      "cell_type": "markdown",
      "source": [
        "***26. Write a code to create a list, a tuple, and a dictionary, and print them all.***"
      ],
      "metadata": {
        "id": "Fn7_cL2lmM0Z"
      }
    },
    {
      "cell_type": "code",
      "source": [
        "my_list = [1, 2, 3]\n",
        "my_tuple = (4, 5, 6)\n",
        "my_dict = {'a': 1, 'b': 2}\n",
        "print(my_list)\n",
        "print(my_tuple)\n",
        "print(my_dict)\n"
      ],
      "metadata": {
        "id": "dvfP48zpmQ_J"
      },
      "execution_count": null,
      "outputs": []
    },
    {
      "cell_type": "markdown",
      "source": [
        "***27. Write a code to create a list of 5 random numbers between 1 and 100, sort it in ascending order, and print the result.***"
      ],
      "metadata": {
        "id": "KjGXi-yOmR-a"
      }
    },
    {
      "cell_type": "code",
      "source": [
        "import random\n",
        "random_numbers = random.sample(range(1, 101), 5)\n",
        "random_numbers.sort()\n",
        "print(random_numbers)\n"
      ],
      "metadata": {
        "id": "MPn2u3BGmVI4"
      },
      "execution_count": null,
      "outputs": []
    },
    {
      "cell_type": "markdown",
      "source": [
        "***28. Write a code to create a list with strings and print the element at the third index.***\n"
      ],
      "metadata": {
        "id": "zIdNOUw_mXPS"
      }
    },
    {
      "cell_type": "code",
      "source": [
        "words = ['apple', 'banana', 'cherry', 'date', 'elderberry']\n",
        "print(words[3])\n"
      ],
      "metadata": {
        "id": "7_LTWWAhmbf4"
      },
      "execution_count": null,
      "outputs": []
    },
    {
      "cell_type": "markdown",
      "source": [
        "***29. Write a code to combine two dictionaries into one and print the result.***"
      ],
      "metadata": {
        "id": "V562WpWMmdMg"
      }
    },
    {
      "cell_type": "code",
      "source": [
        "dict1 = {'a': 1, 'b': 2}\n",
        "dict2 = {'c': 3, 'd': 4}\n",
        "combined_dict = {**dict1, **dict2}\n",
        "print(combined_dict)\n"
      ],
      "metadata": {
        "id": "kCS6N44LmhMn"
      },
      "execution_count": null,
      "outputs": []
    },
    {
      "cell_type": "markdown",
      "source": [
        "***30. Write a code to convert a list of strings into a set.***"
      ],
      "metadata": {
        "id": "AuacvO0-mjKM"
      }
    },
    {
      "cell_type": "code",
      "source": [
        "words = ['apple', 'banana', 'apple', 'cherry']\n",
        "words_set = set(words)\n",
        "print(words_set)\n"
      ],
      "metadata": {
        "id": "MrnFzed1mlyQ"
      },
      "execution_count": null,
      "outputs": []
    }
  ]
}